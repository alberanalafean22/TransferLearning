{
  "nbformat": 4,
  "nbformat_minor": 0,
  "metadata": {
    "colab": {
      "provenance": []
    },
    "kernelspec": {
      "name": "python3",
      "display_name": "Python 3"
    },
    "language_info": {
      "name": "python"
    }
  },
  "cells": [
    {
      "cell_type": "code",
      "source": [
        "import requests\n",
        "import os\n",
        "\n",
        "# URL API untuk genus anomalospiza spesies imberbis, API diperoleh dari Web xeno-canto\n",
        "url = \"https://xeno-canto.org/api/2/recordings?query=anomalospiza+imberbis\"\n",
        "#Jika mendonwload spesies lain ubah bagian sesudah = ,ex:->>>>>       ....?query=genus+spesies\n",
        "\n",
        "#Path file audio\n",
        "datacrawl = \"/content/drive/MyDrive/Dataset Deep Learning/Contoh\"  #Ganti dengan path yang diinginkan\n",
        "\n",
        "#Membuat direktori jika belum ada\n",
        "if not os.path.exists(datacrawl):\n",
        "    os.makedirs(datacrawl)\n",
        "\n",
        "#Menarik data dari API\n",
        "response = requests.get(url)\n",
        "data = response.json()\n",
        "\n",
        "#checking\n",
        "print(data)\n",
        "\n",
        "# Checking Ketersediaan Data\n",
        "try:\n",
        "    if int(data['numRecordings']) > 0:  # Konversi ke integer\n",
        "        for recording in data['recordings']:\n",
        "            audio_url = recording['file']  # URL file audio\n",
        "            audio_id = recording['id']  # ID audio\n",
        "            audio_filename = f\"{audio_id}.mp3\"  #nama file disimpan berdasarkan id\n",
        "\n",
        "            # download audio\n",
        "            audio_response = requests.get(audio_url)\n",
        "            if audio_response.status_code == 200:\n",
        "                # save file audio\n",
        "                with open(os.path.join(datacrawl, audio_filename), 'wb') as audio_file:\n",
        "                    audio_file.write(audio_response.content)\n",
        "                print(f\"Berhasil mengunduh: {audio_filename}\")\n",
        "            else:\n",
        "                print(f\"Gagal mengunduh: {audio_filename}\")\n",
        "    else:\n",
        "        print(\"Tidak ada rekaman ditemukan.\")\n",
        "except ValueError:\n",
        "    print(\"Terjadi kesalahan dalam mengonversi numRecordings ke integer.\")"
      ],
      "metadata": {
        "colab": {
          "base_uri": "https://localhost:8080/"
        },
        "id": "V1QQ7baAL3kL",
        "outputId": "29201aec-fde7-4eba-8737-5004941e0b94"
      },
      "execution_count": 26,
      "outputs": [
        {
          "output_type": "stream",
          "name": "stdout",
          "text": [
            "{'numRecordings': '6', 'numSpecies': '1', 'page': 1, 'numPages': 1, 'recordings': [{'id': '338914', 'gen': 'Anomalospiza', 'sp': 'imberbis', 'ssp': '', 'group': 'birds', 'en': 'Cuckoo-finch', 'rec': 'Peter Boesman', 'cnt': 'Zambia', 'loc': 'Chiengi area, Luapula province', 'lat': '-8.634', 'lng': '29.147', 'alt': '', 'type': 'song', 'sex': '', 'stage': '', 'method': 'field recording', 'url': '//xeno-canto.org/338914', 'file': 'https://xeno-canto.org/338914/download', 'file-name': 'XC338914-LS101736 Cuckoo Finch song A.mp3', 'sono': {'small': '//xeno-canto.org/sounds/uploaded/OOECIWCSWV/ffts/XC338914-small.png', 'med': '//xeno-canto.org/sounds/uploaded/OOECIWCSWV/ffts/XC338914-med.png', 'large': '//xeno-canto.org/sounds/uploaded/OOECIWCSWV/ffts/XC338914-large.png', 'full': '//xeno-canto.org/sounds/uploaded/OOECIWCSWV/ffts/XC338914-full.png'}, 'osci': {'small': '//xeno-canto.org/sounds/uploaded/OOECIWCSWV/wave/XC338914-small.png', 'med': '//xeno-canto.org/sounds/uploaded/OOECIWCSWV/wave/XC338914-med.png', 'large': '//xeno-canto.org/sounds/uploaded/OOECIWCSWV/wave/XC338914-large.png'}, 'lic': '//creativecommons.org/licenses/by-nc-nd/4.0/', 'q': 'A', 'length': '1:32', 'time': '16:30', 'date': '2016-09-19', 'uploaded': '2016-10-20', 'also': [], 'rmk': '', 'bird-seen': 'unknown', 'animal-seen': 'unknown', 'playback-used': 'unknown', 'temp': '', 'regnr': '', 'auto': 'no', 'dvc': '', 'mic': '', 'smp': '44100'}, {'id': '338911', 'gen': 'Anomalospiza', 'sp': 'imberbis', 'ssp': '', 'group': 'birds', 'en': 'Cuckoo-finch', 'rec': 'Peter Boesman', 'cnt': 'Zambia', 'loc': 'North of Kawambwa, Luapula province', 'lat': '-9.646', 'lng': '29.058', 'alt': '', 'type': 'call', 'sex': '', 'stage': '', 'method': 'field recording', 'url': '//xeno-canto.org/338911', 'file': 'https://xeno-canto.org/338911/download', 'file-name': 'XC338911-LS101619 Cuckoo Finch call A.mp3', 'sono': {'small': '//xeno-canto.org/sounds/uploaded/OOECIWCSWV/ffts/XC338911-small.png', 'med': '//xeno-canto.org/sounds/uploaded/OOECIWCSWV/ffts/XC338911-med.png', 'large': '//xeno-canto.org/sounds/uploaded/OOECIWCSWV/ffts/XC338911-large.png', 'full': '//xeno-canto.org/sounds/uploaded/OOECIWCSWV/ffts/XC338911-full.png'}, 'osci': {'small': '//xeno-canto.org/sounds/uploaded/OOECIWCSWV/wave/XC338911-small.png', 'med': '//xeno-canto.org/sounds/uploaded/OOECIWCSWV/wave/XC338911-med.png', 'large': '//xeno-canto.org/sounds/uploaded/OOECIWCSWV/wave/XC338911-large.png'}, 'lic': '//creativecommons.org/licenses/by-nc-nd/4.0/', 'q': 'A', 'length': '0:23', 'time': '11:30', 'date': '2016-09-17', 'uploaded': '2016-10-20', 'also': [], 'rmk': '', 'bird-seen': 'unknown', 'animal-seen': 'unknown', 'playback-used': 'unknown', 'temp': '', 'regnr': '', 'auto': 'no', 'dvc': '', 'mic': '', 'smp': '44100'}, {'id': '338915', 'gen': 'Anomalospiza', 'sp': 'imberbis', 'ssp': '', 'group': 'birds', 'en': 'Cuckoo-finch', 'rec': 'Peter Boesman', 'cnt': 'Zambia', 'loc': 'Chiengi area, Luapula province', 'lat': '-8.634', 'lng': '29.147', 'alt': '', 'type': 'song', 'sex': '', 'stage': '', 'method': 'field recording', 'url': '//xeno-canto.org/338915', 'file': 'https://xeno-canto.org/338915/download', 'file-name': 'XC338915-LS101737 Cuckoo Finch song B.mp3', 'sono': {'small': '//xeno-canto.org/sounds/uploaded/OOECIWCSWV/ffts/XC338915-small.png', 'med': '//xeno-canto.org/sounds/uploaded/OOECIWCSWV/ffts/XC338915-med.png', 'large': '//xeno-canto.org/sounds/uploaded/OOECIWCSWV/ffts/XC338915-large.png', 'full': '//xeno-canto.org/sounds/uploaded/OOECIWCSWV/ffts/XC338915-full.png'}, 'osci': {'small': '//xeno-canto.org/sounds/uploaded/OOECIWCSWV/wave/XC338915-small.png', 'med': '//xeno-canto.org/sounds/uploaded/OOECIWCSWV/wave/XC338915-med.png', 'large': '//xeno-canto.org/sounds/uploaded/OOECIWCSWV/wave/XC338915-large.png'}, 'lic': '//creativecommons.org/licenses/by-nc-nd/4.0/', 'q': 'B', 'length': '0:29', 'time': '16:30', 'date': '2016-09-19', 'uploaded': '2016-10-20', 'also': [], 'rmk': '', 'bird-seen': 'unknown', 'animal-seen': 'unknown', 'playback-used': 'unknown', 'temp': '', 'regnr': '', 'auto': 'no', 'dvc': '', 'mic': '', 'smp': '44100'}, {'id': '338913', 'gen': 'Anomalospiza', 'sp': 'imberbis', 'ssp': '', 'group': 'birds', 'en': 'Cuckoo-finch', 'rec': 'Peter Boesman', 'cnt': 'Zambia', 'loc': 'Chiengi area, Luapula province', 'lat': '-8.634', 'lng': '29.147', 'alt': '', 'type': 'song', 'sex': '', 'stage': '', 'method': 'field recording', 'url': '//xeno-canto.org/338913', 'file': 'https://xeno-canto.org/338913/download', 'file-name': 'XC338913-LS101735 Cuckoo Finch song B.mp3', 'sono': {'small': '//xeno-canto.org/sounds/uploaded/OOECIWCSWV/ffts/XC338913-small.png', 'med': '//xeno-canto.org/sounds/uploaded/OOECIWCSWV/ffts/XC338913-med.png', 'large': '//xeno-canto.org/sounds/uploaded/OOECIWCSWV/ffts/XC338913-large.png', 'full': '//xeno-canto.org/sounds/uploaded/OOECIWCSWV/ffts/XC338913-full.png'}, 'osci': {'small': '//xeno-canto.org/sounds/uploaded/OOECIWCSWV/wave/XC338913-small.png', 'med': '//xeno-canto.org/sounds/uploaded/OOECIWCSWV/wave/XC338913-med.png', 'large': '//xeno-canto.org/sounds/uploaded/OOECIWCSWV/wave/XC338913-large.png'}, 'lic': '//creativecommons.org/licenses/by-nc-nd/4.0/', 'q': 'B', 'length': '0:34', 'time': '16:30', 'date': '2016-09-19', 'uploaded': '2016-10-20', 'also': [], 'rmk': '', 'bird-seen': 'unknown', 'animal-seen': 'unknown', 'playback-used': 'unknown', 'temp': '', 'regnr': '', 'auto': 'no', 'dvc': '', 'mic': '', 'smp': '44100'}, {'id': '338912', 'gen': 'Anomalospiza', 'sp': 'imberbis', 'ssp': '', 'group': 'birds', 'en': 'Cuckoo-finch', 'rec': 'Peter Boesman', 'cnt': 'Zambia', 'loc': 'Chiengi area, Luapula province', 'lat': '-8.634', 'lng': '29.147', 'alt': '', 'type': 'song', 'sex': '', 'stage': '', 'method': 'field recording', 'url': '//xeno-canto.org/338912', 'file': 'https://xeno-canto.org/338912/download', 'file-name': 'XC338912-LS101734 Cuckoo Finch song B.mp3', 'sono': {'small': '//xeno-canto.org/sounds/uploaded/OOECIWCSWV/ffts/XC338912-small.png', 'med': '//xeno-canto.org/sounds/uploaded/OOECIWCSWV/ffts/XC338912-med.png', 'large': '//xeno-canto.org/sounds/uploaded/OOECIWCSWV/ffts/XC338912-large.png', 'full': '//xeno-canto.org/sounds/uploaded/OOECIWCSWV/ffts/XC338912-full.png'}, 'osci': {'small': '//xeno-canto.org/sounds/uploaded/OOECIWCSWV/wave/XC338912-small.png', 'med': '//xeno-canto.org/sounds/uploaded/OOECIWCSWV/wave/XC338912-med.png', 'large': '//xeno-canto.org/sounds/uploaded/OOECIWCSWV/wave/XC338912-large.png'}, 'lic': '//creativecommons.org/licenses/by-nc-nd/4.0/', 'q': 'B', 'length': '0:57', 'time': '16:30', 'date': '2016-09-19', 'uploaded': '2016-10-20', 'also': [], 'rmk': '', 'bird-seen': 'unknown', 'animal-seen': 'unknown', 'playback-used': 'unknown', 'temp': '', 'regnr': '', 'auto': 'no', 'dvc': '', 'mic': '', 'smp': '44100'}, {'id': '309973', 'gen': 'Anomalospiza', 'sp': 'imberbis', 'ssp': '', 'group': 'birds', 'en': 'Cuckoo-finch', 'rec': 'Frank Lambert', 'cnt': 'Malawi', 'loc': 'Malawi, Lilongwe airport dambo, Central Region', 'lat': '-13.7973', 'lng': '33.8058', 'alt': '1220', 'type': 'flight call, song, display then in flight', 'sex': 'male', 'stage': '', 'method': 'field recording', 'url': '//xeno-canto.org/309973', 'file': 'https://xeno-canto.org/309973/download', 'file-name': 'XC309973-Ploceus_xanthops-FL male display + fly nrAirport Lilongwe  4Dec15 6.31am 1220m LS118847a.mp3', 'sono': {'small': '//xeno-canto.org/sounds/uploaded/YTUXOCTUEM/ffts/XC309973-small.png', 'med': '//xeno-canto.org/sounds/uploaded/YTUXOCTUEM/ffts/XC309973-med.png', 'large': '//xeno-canto.org/sounds/uploaded/YTUXOCTUEM/ffts/XC309973-large.png', 'full': '//xeno-canto.org/sounds/uploaded/YTUXOCTUEM/ffts/XC309973-full.png'}, 'osci': {'small': '//xeno-canto.org/sounds/uploaded/YTUXOCTUEM/wave/XC309973-small.png', 'med': '//xeno-canto.org/sounds/uploaded/YTUXOCTUEM/wave/XC309973-med.png', 'large': '//xeno-canto.org/sounds/uploaded/YTUXOCTUEM/wave/XC309973-large.png'}, 'lic': '//creativecommons.org/licenses/by-nc-nd/4.0/', 'q': 'B', 'length': '0:21', 'time': '06:31', 'date': '2015-12-04', 'uploaded': '2016-04-02', 'also': [], 'rmk': \"In an area of tall grasses or dried reeds with congregation of weavers or perhaps cuckoo-finches. The bird singing not seen well (only as it flew off)  and thought to be Holub's Golden Weaver at the time (quite a number present). \", 'bird-seen': 'unknown', 'animal-seen': 'unknown', 'playback-used': 'no', 'temp': '', 'regnr': '', 'auto': 'no', 'dvc': '', 'mic': '', 'smp': '48000'}]}\n",
            "Berhasil mengunduh: 338914.mp3\n",
            "Berhasil mengunduh: 338911.mp3\n",
            "Berhasil mengunduh: 338915.mp3\n",
            "Berhasil mengunduh: 338913.mp3\n",
            "Berhasil mengunduh: 338912.mp3\n",
            "Berhasil mengunduh: 309973.mp3\n"
          ]
        }
      ]
    },
    {
      "cell_type": "code",
      "source": [],
      "metadata": {
        "id": "HFpNYVlkPkCt"
      },
      "execution_count": null,
      "outputs": []
    }
  ]
}